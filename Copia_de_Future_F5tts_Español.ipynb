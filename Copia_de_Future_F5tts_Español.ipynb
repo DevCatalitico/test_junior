{
  "cells": [
    {
      "cell_type": "markdown",
      "metadata": {
        "id": "view-in-github",
        "colab_type": "text"
      },
      "source": [
        "<a href=\"https://colab.research.google.com/github/DevCatalitico/test_junior/blob/main/Copia_de_Future_F5tts_Espa%C3%B1ol.ipynb\" target=\"_parent\"><img src=\"https://colab.research.google.com/assets/colab-badge.svg\" alt=\"Open In Colab\"/></a>"
      ]
    },
    {
      "cell_type": "markdown",
      "source": [
        "![Texto alternativo]()"
      ],
      "metadata": {
        "id": "kWFUubWRlBJW"
      }
    },
    {
      "cell_type": "markdown",
      "source": [
        "# IA F5 TTS en Español\n",
        "\n",
        "\n",
        "IA para la creacion de texto a voz, con un fragmento de voz como input.\n",
        "el modelo en español utilizado es de los primeros que existen esperemos mejoren con el tiempo..\n",
        "\n",
        "# UNA DONACION EN KOFI o Patreon me ayudaria mucho a seguir con el canal.❤️\n",
        "[![my discord](https://i.imgur.com/yNRITbU.png)](https://discord.gg/jz5wBATyZp)\n",
        "[![ko-fi](https://img.shields.io/badge/Ko--fi-F16061?logo=ko-fi&logoColor=white&style=flat)](https://ko-fi.com/futurediffusion) [![ko-fi](https://img.shields.io/badge/Patreon-F1465A?logo=patreon&logoColor=white&style=flat)](https://www.patreon.com/FutureDiffusion)\n",
        "[![imgur](https://imgur.com/mYSQwo5.png)](https://twitter.com/home)[![imgur](https://imgur.com/LS4NVGH.pngg)](https://www.instagram.com/futurediffusion/)[![imgur](https://i.imgur.com/UJjqyQW.png)](https://www.youtube.com/@futurediffusion)    \n",
        "\n",
        "\n",
        "\n",
        "# VISITA MI CANAL: [Future Diffusion](https://www.youtube.com/@futurediffusion)\n",
        "\n",
        "<img src=\"https://count.getloli.com/get/@:f5spanishfuture?theme=rule34\" height=\"90px\" alt=\"counted since: Nov 19\"/>"
      ],
      "metadata": {
        "id": "L0LO7uogj80H"
      }
    },
    {
      "cell_type": "code",
      "execution_count": null,
      "metadata": {
        "id": "0-duLUr_Iema",
        "cellView": "form"
      },
      "outputs": [],
      "source": [
        "# @title 🛠️ Instalar requerimientos\n",
        "# !DEBIAN_FRONTEND=noninteractive  # Esto no es necesario en este caso.\n",
        "!pip install git+https://github.com/jpgallegoar/Spanish-F5.git\n"
      ]
    },
    {
      "cell_type": "code",
      "execution_count": null,
      "metadata": {
        "id": "a2LYVge6IhOh",
        "cellView": "form"
      },
      "outputs": [],
      "source": [
        "# @title 🚀ARRANCAR F5 TTS\n",
        "#!DEBIAN_FRONTEND=noninteractive\n",
        "!f5-tts_infer-gradio"
      ]
    }
  ],
  "metadata": {
    "accelerator": "GPU",
    "colab": {
      "gpuType": "T4",
      "provenance": [],
      "include_colab_link": true
    },
    "kernelspec": {
      "display_name": "Python 3",
      "name": "python3"
    },
    "language_info": {
      "name": "python"
    }
  },
  "nbformat": 4,
  "nbformat_minor": 0
}
